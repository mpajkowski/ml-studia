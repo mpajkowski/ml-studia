{
 "cells": [
  {
   "cell_type": "markdown",
   "metadata": {},
   "source": [
    "# Parsowanie danych wejściowych"
   ]
  },
  {
   "cell_type": "markdown",
   "metadata": {},
   "source": [
    "## Rozdzielenie populacji C1 i C2 na podstawie wartości parametru C\n",
    "\n"
   ]
  },
  {
   "cell_type": "code",
   "execution_count": 1,
   "metadata": {},
   "outputs": [],
   "source": [
    "population_data = open(\"211968.txt\").read().strip().split(\"\\n\")"
   ]
  },
  {
   "cell_type": "code",
   "execution_count": 2,
   "metadata": {
    "scrolled": false
   },
   "outputs": [],
   "source": [
    "c1 = []\n",
    "c2 = []\n",
    "\n",
    "for line in population_data:\n",
    "    valX, valC = line.split()\n",
    "    valX = float(valX)\n",
    "    valC = int(float(valC))\n",
    "    \n",
    "    T = c2 if valC != 1 else c1\n",
    "    T.append(valX)"
   ]
  },
  {
   "cell_type": "markdown",
   "metadata": {},
   "source": [
    "## Odczytanie danych definiujących dodatkowe założenia"
   ]
  },
  {
   "cell_type": "code",
   "execution_count": 3,
   "metadata": {},
   "outputs": [
    {
     "data": {
      "text/plain": [
       "['Alfa = 0.01', 'Rozkład jednostronny']"
      ]
     },
     "execution_count": 3,
     "metadata": {},
     "output_type": "execute_result"
    }
   ],
   "source": [
    "additional_data = open(\"211968.info\").read().strip().split(\"\\n\")\n",
    "additional_data"
   ]
  },
  {
   "cell_type": "markdown",
   "metadata": {},
   "source": [
    "# Histogram prezentujący zróżnicowanie cechy X pośród populacji C1 i C2"
   ]
  },
  {
   "cell_type": "code",
   "execution_count": 4,
   "metadata": {
    "scrolled": true
   },
   "outputs": [
    {
     "data": {
      "text/plain": [
       "([array([ 0.,  0.,  0.,  0.,  0.,  0.,  0.,  0.,  0.,  0.,  0.,  0.,  0.,\n",
       "          0.,  0.,  0.,  0.,  1.,  0.,  0.,  0.,  2.,  0.,  0.,  2.,  2.,\n",
       "          2.,  4.,  2.,  4.,  4.,  6., 11., 10.,  8.,  7.,  8., 16., 19.,\n",
       "          9., 22., 21., 11., 16., 13., 23., 12., 13., 11., 18., 17., 22.,\n",
       "         14.,  9.,  9.,  7.,  9.,  8.,  6.,  5.,  3.,  0.,  2.,  1.,  0.,\n",
       "          1.,  1.,  1.,  0.,  1.,  0.,  1.,  0.,  0.,  1.,  0.,  0.,  0.,\n",
       "          0.,  0.,  0.,  0.,  0.,  0.,  0.,  0.,  0.,  0.,  0.,  0.,  0.,\n",
       "          0.,  0.,  0.,  0.,  0.,  0.,  0.,  0.,  0.]),\n",
       "  array([ 1.,  0.,  1.,  0.,  0.,  2.,  1.,  0.,  3.,  1.,  0.,  3.,  3.,\n",
       "          1.,  4.,  3.,  7.,  3.,  2.,  6.,  2.,  2.,  2.,  8.,  8.,  4.,\n",
       "          8.,  9.,  9.,  6.,  7.,  8.,  7., 10., 12., 10., 11., 15.,  9.,\n",
       "         12., 12., 12., 18.,  9., 19., 18., 18., 13., 13., 14.,  8.,  9.,\n",
       "          4., 12.,  9., 12.,  8., 11.,  8.,  8.,  4., 11.,  6.,  5.,  5.,\n",
       "          6.,  6.,  5.,  3.,  3.,  5.,  0.,  6.,  0.,  2.,  2.,  1.,  1.,\n",
       "          3.,  2.,  1.,  1.,  0.,  0.,  0.,  2.,  0.,  0.,  0.,  1.,  0.,\n",
       "          0.,  0.,  0.,  0.,  0.,  0.,  0.,  0.,  1.])],\n",
       " array([-1.38950366e+00, -1.31262144e+00, -1.23573922e+00, -1.15885701e+00,\n",
       "        -1.08197479e+00, -1.00509257e+00, -9.28210357e-01, -8.51328140e-01,\n",
       "        -7.74445924e-01, -6.97563707e-01, -6.20681491e-01, -5.43799275e-01,\n",
       "        -4.66917058e-01, -3.90034842e-01, -3.13152625e-01, -2.36270409e-01,\n",
       "        -1.59388193e-01, -8.25059762e-02, -5.62375974e-03,  7.12584567e-02,\n",
       "         1.48140673e-01,  2.25022889e-01,  3.01905106e-01,  3.78787322e-01,\n",
       "         4.55669539e-01,  5.32551755e-01,  6.09433972e-01,  6.86316188e-01,\n",
       "         7.63198404e-01,  8.40080621e-01,  9.16962837e-01,  9.93845054e-01,\n",
       "         1.07072727e+00,  1.14760949e+00,  1.22449170e+00,  1.30137392e+00,\n",
       "         1.37825614e+00,  1.45513835e+00,  1.53202057e+00,  1.60890278e+00,\n",
       "         1.68578500e+00,  1.76266722e+00,  1.83954943e+00,  1.91643165e+00,\n",
       "         1.99331387e+00,  2.07019608e+00,  2.14707830e+00,  2.22396052e+00,\n",
       "         2.30084273e+00,  2.37772495e+00,  2.45460717e+00,  2.53148938e+00,\n",
       "         2.60837160e+00,  2.68525381e+00,  2.76213603e+00,  2.83901825e+00,\n",
       "         2.91590046e+00,  2.99278268e+00,  3.06966490e+00,  3.14654711e+00,\n",
       "         3.22342933e+00,  3.30031155e+00,  3.37719376e+00,  3.45407598e+00,\n",
       "         3.53095820e+00,  3.60784041e+00,  3.68472263e+00,  3.76160484e+00,\n",
       "         3.83848706e+00,  3.91536928e+00,  3.99225149e+00,  4.06913371e+00,\n",
       "         4.14601593e+00,  4.22289814e+00,  4.29978036e+00,  4.37666258e+00,\n",
       "         4.45354479e+00,  4.53042701e+00,  4.60730922e+00,  4.68419144e+00,\n",
       "         4.76107366e+00,  4.83795587e+00,  4.91483809e+00,  4.99172031e+00,\n",
       "         5.06860252e+00,  5.14548474e+00,  5.22236696e+00,  5.29924917e+00,\n",
       "         5.37613139e+00,  5.45301361e+00,  5.52989582e+00,  5.60677804e+00,\n",
       "         5.68366025e+00,  5.76054247e+00,  5.83742469e+00,  5.91430690e+00,\n",
       "         5.99118912e+00,  6.06807134e+00,  6.14495355e+00,  6.22183577e+00,\n",
       "         6.29871799e+00]),\n",
       " <a list of 2 Lists of Patches objects>)"
      ]
     },
     "execution_count": 4,
     "metadata": {},
     "output_type": "execute_result"
    },
    {
     "data": {
      "image/png": "[encoded data removed]",
      "text/plain": [
       "<Figure size 432x288 with 1 Axes>"
      ]
     },
     "metadata": {},
     "output_type": "display_data"
    }
   ],
   "source": [
    "%matplotlib inline\n",
    "\n",
    "import math\n",
    "import matplotlib.pylab as plt\n",
    "plt.hist((c1, c2), 100)"
   ]
  },
  {
   "cell_type": "markdown",
   "metadata": {},
   "source": [
    "# Znalezienie parametrów statystycznych określonych w zadaniu\n",
    "## Funkcje pomocnicze:"
   ]
  },
  {
   "cell_type": "markdown",
   "metadata": {},
   "source": [
    "### Średnia arytmetyczna"
   ]
  },
  {
   "cell_type": "code",
   "execution_count": 5,
   "metadata": {},
   "outputs": [],
   "source": [
    "def mean(array):\n",
    "    res = sum(array) / len(array)\n",
    "    return round(res, 3)"
   ]
  },
  {
   "cell_type": "markdown",
   "metadata": {},
   "source": [
    "### Odchylenie standardowe"
   ]
  },
  {
   "cell_type": "code",
   "execution_count": 6,
   "metadata": {},
   "outputs": [],
   "source": [
    "def standard_deviation(array):\n",
    "    m = mean(array)\n",
    "    return round(math.sqrt(sum((i - m) ** 2 for i in array) / (len(array) - 1)), 3)"
   ]
  },
  {
   "cell_type": "markdown",
   "metadata": {},
   "source": [
    "### Znormalizowana różnica średnich"
   ]
  },
  {
   "cell_type": "code",
   "execution_count": 7,
   "metadata": {},
   "outputs": [],
   "source": [
    "def computeZ(arr1, arr2):\n",
    "    mean_1 = mean(arr1)\n",
    "    mean_2 = mean(arr2)\n",
    "    stdev_1 = standard_deviation(arr1)\n",
    "    stdev_2 = standard_deviation(arr2)\n",
    "    z = (mean_1 - mean_2) \\\n",
    "      / math.sqrt(stdev_1 / len(arr1) + stdev_2 / len(arr2))\n",
    "    \n",
    "    return round(z, 3)"
   ]
  },
  {
   "cell_type": "markdown",
   "metadata": {},
   "source": [
    "### Liczba stopni swobody"
   ]
  },
  {
   "cell_type": "code",
   "execution_count": 8,
   "metadata": {},
   "outputs": [],
   "source": [
    "def computeDF(arr1, arr2):\n",
    "    s1 = standard_deviation(arr1)\n",
    "    s2 = standard_deviation(arr2)\n",
    "    \n",
    "    s1_squared = (s1 ** 2)\n",
    "    s2_squared = (s2 ** 2)\n",
    "    n1 = len(arr1)\n",
    "    n2 = len(arr2)\n",
    "\n",
    "    DF = (s1_squared / n1 + s2_squared / n2) ** 2 \\\n",
    "       / (( (s1_squared / n1) ** 2 / (n1 - 1)) \\\n",
    "       + (  (s2_squared / n2) ** 2 / (n2 - 1)))\n",
    "\n",
    "    return round(DF, 3)"
   ]
  },
  {
   "cell_type": "markdown",
   "metadata": {},
   "source": [
    "## Obliczenia:"
   ]
  },
  {
   "cell_type": "markdown",
   "metadata": {},
   "source": [
    "### średnia i odchylenie standardowe"
   ]
  },
  {
   "cell_type": "code",
   "execution_count": 9,
   "metadata": {
    "scrolled": true
   },
   "outputs": [],
   "source": [
    "mean_c1, mean_c2 = mean(c1), mean(c2)\n",
    "stdev_c1, stdev_c2 = standard_deviation(c1), standard_deviation(c2)"
   ]
  },
  {
   "cell_type": "markdown",
   "metadata": {},
   "source": [
    "### Znormalizowana róznica średnich oraz ilość stopni swobody"
   ]
  },
  {
   "cell_type": "code",
   "execution_count": 10,
   "metadata": {},
   "outputs": [],
   "source": [
    "z = computeZ(c1, c2)\n",
    "df = computeDF(c1, c2)"
   ]
  },
  {
   "cell_type": "code",
   "execution_count": 11,
   "metadata": {
    "scrolled": false
   },
   "outputs": [
    {
     "data": {
      "text/plain": [
       "[<matplotlib.lines.Line2D at 0x7f7a1954feb8>]"
      ]
     },
     "execution_count": 11,
     "metadata": {},
     "output_type": "execute_result"
    },
    {
     "data": {
      "image/png": "[encoded data removed]",
      "text/plain": [
       "<Figure size 432x288 with 1 Axes>"
      ]
     },
     "metadata": {},
     "output_type": "display_data"
    }
   ],
   "source": [
    "def normal(X):\n",
    "    return (math.e**( (-X*X) / 2) ) / math.sqrt(math.pi*2)\n",
    "\n",
    "normal_x = [-5 + i * 0.01 for i in range(1000)]\n",
    "normal_y = [normal(x) for x in normal_x]\n",
    "\n",
    "plt.figure()\n",
    "plt.plot(normal_x, normal_y)"
   ]
  },
  {
   "cell_type": "code",
   "execution_count": 12,
   "metadata": {},
   "outputs": [
    {
     "data": {
      "text/plain": [
       "[<matplotlib.lines.Line2D at 0x7f7a195351d0>]"
      ]
     },
     "execution_count": 12,
     "metadata": {},
     "output_type": "execute_result"
    },
    {
     "data": {
      "image/png": "[encoded data removed]",
      "text/plain": [
       "<Figure size 432x288 with 1 Axes>"
      ]
     },
     "metadata": {},
     "output_type": "display_data"
    }
   ],
   "source": [
    "dist_y = [0]\n",
    "for y in normal_y:\n",
    "    dist_y.append(dist_y[-1] + y*0.01)\n",
    "\n",
    "dist_y = dist_y[1:]\n",
    "\n",
    "plt.figure()\n",
    "plt.plot(normal_x, dist_y)"
   ]
  },
  {
   "cell_type": "code",
   "execution_count": 13,
   "metadata": {},
   "outputs": [
    {
     "data": {
      "text/plain": [
       "0.46844961862437157"
      ]
     },
     "execution_count": 13,
     "metadata": {},
     "output_type": "execute_result"
    }
   ],
   "source": [
    "def find_dist(X):\n",
    "    for i in range(len(normal_x)):\n",
    "        if normal_x[i] > X:\n",
    "            return dist_y[i]\n",
    "    return 1\n",
    "\n",
    "find_dist(-abs(z))*2"
   ]
  },
  {
   "cell_type": "markdown",
   "metadata": {},
   "source": [
    "# Prezentacja wyników przetwarzania danych i wnioski"
   ]
  },
  {
   "cell_type": "code",
   "execution_count": 14,
   "metadata": {},
   "outputs": [
    {
     "name": "stdout",
     "output_type": "stream",
     "text": [
      "1st sample size = 395\n",
      "2nd sample size = 517\n",
      "1st sample mean = 2.044\n",
      "2nd sample mean = 1.997\n",
      "1st sample stdev = 0.686\n",
      "2nd sample stdev = 1.236\n",
      "Degrees of freedom for Student-t distribution = 837.639\n",
      "\n",
      "Results:\n",
      "Statistics value z = 0.732\n",
      "Normal distribution: p-value = 0.46844961862437157\n"
     ]
    }
   ],
   "source": [
    "print(\"1st sample size = \" + str(len(c1)))\n",
    "print(\"2nd sample size = \" + str(len(c2)))\n",
    "\n",
    "print(\"1st sample mean = \" + str(mean_c1))\n",
    "print(\"2nd sample mean = \" + str(mean_c2))\n",
    "print(\"1st sample stdev = \" + str(stdev_c1))\n",
    "print(\"2nd sample stdev = \" + str(stdev_c2))\n",
    "print(\"Degrees of freedom for Student-t distribution = \" + str(df))\n",
    "\n",
    "print(\"\\nResults:\")\n",
    "\n",
    "print(\"Statistics value z = \" + str(z))\n",
    "print(\"Normal distribution: p-value = \" + str( (find_dist(-abs(z)) * 2) ))"
   ]
  },
  {
   "cell_type": "markdown",
   "metadata": {},
   "source": [
    "Wartość prawdopodobieństwa odczytana na podstawie tablicy rozkładu normalnego jest znacząco większa niż zadany stopień prawdopodobieństwa alfa. Właściwą wartość prawdopodobieństwa można odnaleźć następującą metodą:"
   ]
  },
  {
   "cell_type": "code",
   "execution_count": 15,
   "metadata": {},
   "outputs": [
    {
     "name": "stdout",
     "output_type": "stream",
     "text": [
      "Real p: 0.23422480931218578\n"
     ]
    }
   ],
   "source": [
    "real_p = find_dist(-abs(z))\n",
    "print(\"Real p: \" + str(real_p))"
   ]
  },
  {
   "cell_type": "code",
   "execution_count": null,
   "metadata": {},
   "outputs": [],
   "source": []
  },
  {
   "cell_type": "code",
   "execution_count": null,
   "metadata": {},
   "outputs": [],
   "source": []
  },
  {
   "cell_type": "code",
   "execution_count": null,
   "metadata": {},
   "outputs": [],
   "source": []
  },
  {
   "cell_type": "code",
   "execution_count": null,
   "metadata": {},
   "outputs": [],
   "source": []
  }
 ],
 "metadata": {
  "kernelspec": {
   "display_name": "Python 3",
   "language": "python",
   "name": "python3"
  },
  "language_info": {
   "codemirror_mode": {
    "name": "ipython",
    "version": 3
   },
   "file_extension": ".py",
   "mimetype": "text/x-python",
   "name": "python",
   "nbconvert_exporter": "python",
   "pygments_lexer": "ipython3",
   "version": "3.6.4"
  }
 },
 "nbformat": 4,
 "nbformat_minor": 2
}
